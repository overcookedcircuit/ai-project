{
 "cells": [
  {
   "cell_type": "markdown",
   "metadata": {},
   "source": [
    "Imports and Setup"
   ]
  },
  {
   "cell_type": "code",
   "execution_count": null,
   "metadata": {},
   "outputs": [],
   "source": [
    "import requests\n",
    "from langchain import LangChain, LLMChain, Chain\n",
    "from langchain.llms import OpenAI\n",
    "from langchain.schema import Document\n",
    "import os\n",
    "from dotenv import load_dotenv"
   ]
  },
  {
   "cell_type": "code",
   "execution_count": null,
   "metadata": {},
   "outputs": [],
   "source": [
    "\n",
    "# Define your API URL\n",
    "load_dotenv()\n",
    "load_dotenv()\n",
    "\n",
    "RELIEFWEB_API_URL = os.getenv('RELIEFWEB_API_URL')\n",
    "\n",
    "def get_rweb_data(query: dict, endpoint: str) -> list:\n",
    "    url = f\"{RELIEFWEB_API_URL}/{endpoint}\"\n",
    "    response = requests.post(url, json=query)\n",
    "    if response.status_code == 200:\n",
    "        answer = response.json()\n",
    "    else:\n",
    "        return f\"No data was returned for query: {query}\"\n",
    "    \n",
    "    results = []\n",
    "    for article in answer.get(\"data\", []):\n",
    "        article_url = article[\"fields\"][\"url\"]\n",
    "        article_response = requests.get(article_url)\n",
    "        web_content = BeautifulSoup(article_response.text, \"html.parser\").get_text()\n",
    "        article[\"fields\"][\"body\"] = web_content\n",
    "        results.append(article[\"fields\"])\n",
    "    \n",
    "    return results\n"
   ]
  },
  {
   "cell_type": "markdown",
   "metadata": {},
   "source": [
    "LangChain Document Loader"
   ]
  },
  {
   "cell_type": "code",
   "execution_count": null,
   "metadata": {},
   "outputs": [],
   "source": [
    "class ReliefWebDocumentLoader:\n",
    "    def __init__(self, query: dict, endpoint: str):\n",
    "        self.query = query\n",
    "        self.endpoint = endpoint\n",
    "    \n",
    "    def load_documents(self) -> list:\n",
    "        data = get_rweb_data(self.query, self.endpoint)\n",
    "        documents = [Document(text=item[\"body\"]) for item in data]\n",
    "        return documents\n"
   ]
  },
  {
   "cell_type": "markdown",
   "metadata": {},
   "source": [
    "Chain of process & responses to queries"
   ]
  },
  {
   "cell_type": "code",
   "execution_count": null,
   "metadata": {},
   "outputs": [],
   "source": [
    "from langchain.prompts import PromptTemplate\n",
    "from langchain.chains import LLMChain\n",
    "\n",
    "# Prompt template\n",
    "prompt_template = PromptTemplate.from_template(\n",
    "    \"\"\"\n",
    "    The following is information extracted from humanitarian reports:\n",
    "    {content}\n",
    "    Please summarize the key points about {query}.\n",
    "    \"\"\"\n",
    ")\n",
    "\n",
    "# Define an LLMChain with OpenAI or another language model\n",
    "llm_chain = LLMChain(\n",
    "    llm=OpenAI(api_key='your-openai-api-key'),\n",
    "    prompt_template=prompt_template\n",
    ")\n",
    "\n",
    "# LangChain chain\n",
    "class ReliefWebChain(Chain):\n",
    "    def __init__(self, document_loader: ReliefWebDocumentLoader, llm_chain: LLMChain):\n",
    "        self.document_loader = document_loader\n",
    "        self.llm_chain = llm_chain\n",
    "\n",
    "    def run(self, query: str) -> str:\n",
    "        documents = self.document_loader.load_documents()\n",
    "        content = \"\\n\".join(doc.text for doc in documents)\n",
    "        result = self.llm_chain.run(content=content, query=query)\n",
    "        return result\n"
   ]
  },
  {
   "cell_type": "code",
   "execution_count": null,
   "metadata": {},
   "outputs": [],
   "source": [
    "if __name__ == \"__main__\":\n",
    "    query = \"sudan crisis\"\n",
    "    document_loader = ReliefWebDocumentLoader(\n",
    "        query={\"appname\": \"myapp\", \"query\": {\"value\": query, \"operator\": \"AND\"}},\n",
    "        endpoint=\"reports\"\n",
    "    )\n",
    "    chain = ReliefWebChain(document_loader=document_loader, llm_chain=llm_chain)\n",
    "    result = chain.run(query)\n",
    "    print(result)\n"
   ]
  }
 ],
 "metadata": {
  "language_info": {
   "name": "python"
  }
 },
 "nbformat": 4,
 "nbformat_minor": 2
}
